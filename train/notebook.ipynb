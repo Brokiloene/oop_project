{
  "cells": [
    {
      "cell_type": "markdown",
      "metadata": {
        "id": "BO7MEGbb6mtB"
      },
      "source": [
        "# Finetune RuGPTs in huggingface\n",
        "How to finetune RuGPTs models with huggingface. Example for RuGPT3Small. Nfor other models it will take more GPU memory.\n",
        "\n",
        "This notebook is valid for all RuGPTs models except RuGPT3XL.\n",
        "## Install env"
      ]
    },
    {
      "cell_type": "code",
      "execution_count": null,
      "metadata": {
        "id": "H73-Pizb6c8n",
        "colab": {
          "base_uri": "https://localhost:8080/"
        },
        "outputId": "0a4e4bc3-c2c8-4c56-f25d-e7454708dc24"
      },
      "outputs": [
        {
          "output_type": "stream",
          "name": "stdout",
          "text": [
            "Looking in indexes: https://pypi.org/simple, https://us-python.pkg.dev/colab-wheels/public/simple/\n",
            "Collecting torch==1.4.0\n",
            "  Downloading torch-1.4.0-cp37-cp37m-manylinux1_x86_64.whl (753.4 MB)\n",
            "\u001b[K     |████████████████████████████████| 753.4 MB 6.2 kB/s \n",
            "\u001b[?25hInstalling collected packages: torch\n",
            "  Attempting uninstall: torch\n",
            "    Found existing installation: torch 1.12.1+cu113\n",
            "    Uninstalling torch-1.12.1+cu113:\n",
            "      Successfully uninstalled torch-1.12.1+cu113\n",
            "\u001b[31mERROR: pip's dependency resolver does not currently take into account all the packages that are installed. This behaviour is the source of the following dependency conflicts.\n",
            "torchvision 0.13.1+cu113 requires torch==1.12.1, but you have torch 1.4.0 which is incompatible.\n",
            "torchtext 0.13.1 requires torch==1.12.1, but you have torch 1.4.0 which is incompatible.\n",
            "torchaudio 0.12.1+cu113 requires torch==1.12.1, but you have torch 1.4.0 which is incompatible.\n",
            "fastai 2.7.10 requires torch<1.14,>=1.7, but you have torch 1.4.0 which is incompatible.\u001b[0m\n",
            "Successfully installed torch-1.4.0\n",
            "Looking in indexes: https://pypi.org/simple, https://us-python.pkg.dev/colab-wheels/public/simple/\n",
            "Collecting transformers==3.5.0\n",
            "  Downloading transformers-3.5.0-py3-none-any.whl (1.3 MB)\n",
            "\u001b[K     |████████████████████████████████| 1.3 MB 15.8 MB/s \n",
            "\u001b[?25hRequirement already satisfied: filelock in /usr/local/lib/python3.7/dist-packages (from transformers==3.5.0) (3.8.0)\n",
            "Requirement already satisfied: packaging in /usr/local/lib/python3.7/dist-packages (from transformers==3.5.0) (21.3)\n",
            "Requirement already satisfied: tqdm>=4.27 in /usr/local/lib/python3.7/dist-packages (from transformers==3.5.0) (4.64.1)\n",
            "Requirement already satisfied: regex!=2019.12.17 in /usr/local/lib/python3.7/dist-packages (from transformers==3.5.0) (2022.6.2)\n",
            "Collecting tokenizers==0.9.3\n",
            "  Downloading tokenizers-0.9.3-cp37-cp37m-manylinux1_x86_64.whl (2.9 MB)\n",
            "\u001b[K     |████████████████████████████████| 2.9 MB 55.8 MB/s \n",
            "\u001b[?25hRequirement already satisfied: protobuf in /usr/local/lib/python3.7/dist-packages (from transformers==3.5.0) (3.19.6)\n",
            "Collecting sacremoses\n",
            "  Downloading sacremoses-0.0.53.tar.gz (880 kB)\n",
            "\u001b[K     |████████████████████████████████| 880 kB 57.4 MB/s \n",
            "\u001b[?25hRequirement already satisfied: requests in /usr/local/lib/python3.7/dist-packages (from transformers==3.5.0) (2.23.0)\n",
            "Collecting sentencepiece==0.1.91\n",
            "  Downloading sentencepiece-0.1.91-cp37-cp37m-manylinux1_x86_64.whl (1.1 MB)\n",
            "\u001b[K     |████████████████████████████████| 1.1 MB 50.1 MB/s \n",
            "\u001b[?25hRequirement already satisfied: numpy in /usr/local/lib/python3.7/dist-packages (from transformers==3.5.0) (1.21.6)\n",
            "Requirement already satisfied: pyparsing!=3.0.5,>=2.0.2 in /usr/local/lib/python3.7/dist-packages (from packaging->transformers==3.5.0) (3.0.9)\n",
            "Requirement already satisfied: certifi>=2017.4.17 in /usr/local/lib/python3.7/dist-packages (from requests->transformers==3.5.0) (2022.9.24)\n",
            "Requirement already satisfied: idna<3,>=2.5 in /usr/local/lib/python3.7/dist-packages (from requests->transformers==3.5.0) (2.10)\n",
            "Requirement already satisfied: chardet<4,>=3.0.2 in /usr/local/lib/python3.7/dist-packages (from requests->transformers==3.5.0) (3.0.4)\n",
            "Requirement already satisfied: urllib3!=1.25.0,!=1.25.1,<1.26,>=1.21.1 in /usr/local/lib/python3.7/dist-packages (from requests->transformers==3.5.0) (1.24.3)\n",
            "Requirement already satisfied: six in /usr/local/lib/python3.7/dist-packages (from sacremoses->transformers==3.5.0) (1.15.0)\n",
            "Requirement already satisfied: click in /usr/local/lib/python3.7/dist-packages (from sacremoses->transformers==3.5.0) (7.1.2)\n",
            "Requirement already satisfied: joblib in /usr/local/lib/python3.7/dist-packages (from sacremoses->transformers==3.5.0) (1.2.0)\n",
            "Building wheels for collected packages: sacremoses\n",
            "  Building wheel for sacremoses (setup.py) ... \u001b[?25l\u001b[?25hdone\n",
            "  Created wheel for sacremoses: filename=sacremoses-0.0.53-py3-none-any.whl size=895260 sha256=15618d7b64b508c7c7c89e8f31922d2ce2b6b9e559a7e0384015e5614b73da76\n",
            "  Stored in directory: /root/.cache/pip/wheels/87/39/dd/a83eeef36d0bf98e7a4d1933a4ad2d660295a40613079bafc9\n",
            "Successfully built sacremoses\n",
            "Installing collected packages: tokenizers, sentencepiece, sacremoses, transformers\n",
            "Successfully installed sacremoses-0.0.53 sentencepiece-0.1.91 tokenizers-0.9.3 transformers-3.5.0\n"
          ]
        }
      ],
      "source": [
        "!pip install torch==1.4.0\n",
        "!pip3 install transformers==3.5.0"
      ]
    },
    {
      "cell_type": "code",
      "source": [
        "!python -V"
      ],
      "metadata": {
        "colab": {
          "base_uri": "https://localhost:8080/"
        },
        "id": "NHsIaGwFqH55",
        "outputId": "0df92333-deca-4daf-9c31-80234682dd01"
      },
      "execution_count": null,
      "outputs": [
        {
          "output_type": "stream",
          "name": "stdout",
          "text": [
            "Python 3.7.15\n"
          ]
        }
      ]
    },
    {
      "cell_type": "code",
      "execution_count": null,
      "metadata": {
        "id": "RSV1JFFf6nrt",
        "colab": {
          "base_uri": "https://localhost:8080/"
        },
        "outputId": "7f82c473-439f-4a7e-870a-d7d06e113f0b"
      },
      "outputs": [
        {
          "output_type": "stream",
          "name": "stdout",
          "text": [
            "fatal: destination path 'ru-gpts' already exists and is not an empty directory.\n"
          ]
        }
      ],
      "source": [
        "!git clone  https://github.com/sberbank-ai/ru-gpts"
      ]
    },
    {
      "cell_type": "code",
      "execution_count": null,
      "metadata": {
        "id": "WJZtWu8u6nwL",
        "colab": {
          "base_uri": "https://localhost:8080/"
        },
        "outputId": "877b9260-0c50-48fd-ca50-daabffd16cc7"
      },
      "outputs": [
        {
          "output_type": "stream",
          "name": "stdout",
          "text": [
            "mkdir: cannot create directory ‘models/’: File exists\n"
          ]
        }
      ],
      "source": [
        "!mkdir models/"
      ]
    },
    {
      "cell_type": "code",
      "source": [
        "from google.colab import drive\n",
        "drive.mount('/content/drive')"
      ],
      "metadata": {
        "colab": {
          "base_uri": "https://localhost:8080/"
        },
        "id": "1F7gGNUxPIbr",
        "outputId": "9eda7905-d8e8-4584-8750-304fa077fdfe"
      },
      "execution_count": null,
      "outputs": [
        {
          "output_type": "stream",
          "name": "stdout",
          "text": [
            "Mounted at /content/drive\n"
          ]
        }
      ]
    },
    {
      "cell_type": "markdown",
      "metadata": {
        "id": "WqwZiumW8WbZ"
      },
      "source": [
        "## Download files"
      ]
    },
    {
      "cell_type": "code",
      "execution_count": null,
      "metadata": {
        "id": "j51bKtQW6nyY"
      },
      "outputs": [],
      "source": [
        "!wget -O train.txt https://www.dropbox.com/s/oa3v9c7g9bp40xw/train.txt?dl=0\n",
        "!wget -O valid.txt https://www.dropbox.com/s/mworl3ld6r3bg62/valid.txt?dl=0"
      ]
    },
    {
      "cell_type": "markdown",
      "metadata": {
        "id": "zoyX62qN_38l"
      },
      "source": [
        "## Train \n",
        "The following code download our model and tokenizer from huggingface and finetune model for generating essays.\n",
        "\n",
        "This took aroung ten minutes and obtain perplexity = 13-16"
      ]
    },
    {
      "cell_type": "code",
      "execution_count": null,
      "metadata": {
        "id": "aZ-4Kav28cH0",
        "colab": {
          "base_uri": "https://localhost:8080/"
        },
        "outputId": "11bf34b5-4cf5-462e-f7bb-89fe6f8d9b6f"
      },
      "outputs": [
        {
          "output_type": "stream",
          "name": "stdout",
          "text": [
            "WARNING:__main__:Process rank: -1, device: cuda, n_gpu: 1, distributed training: False, 16-bits training: False\n",
            "Downloading: 100% 608/608 [00:00<00:00, 465kB/s]\n",
            "Downloading: 100% 1.71M/1.71M [00:01<00:00, 1.09MB/s]\n",
            "Downloading: 100% 1.27M/1.27M [00:01<00:00, 975kB/s]\n",
            "/usr/local/lib/python3.7/dist-packages/transformers/tokenization_utils_base.py:1423: FutureWarning: The `max_len` attribute has been deprecated and will be removed in a future version, use `model_max_length` instead.\n",
            "  FutureWarning,\n",
            "/usr/local/lib/python3.7/dist-packages/transformers/modeling_auto.py:837: FutureWarning: The class `AutoModelWithLMHead` is deprecated and will be removed in a future version. Please use `AutoModelForCausalLM` for causal language models, `AutoModelForMaskedLM` for masked language models and `AutoModelForSeq2SeqLM` for encoder-decoder models.\n",
            "  FutureWarning,\n",
            "Downloading: 100% 551M/551M [00:13<00:00, 39.5MB/s]\n",
            "Epoch:   0% 0/5 [00:00<?, ?it/s]\n",
            "Iteration:   0% 0/53 [00:00<?, ?it/s]\u001b[A\n",
            "Iteration:   2% 1/53 [00:00<00:49,  1.05it/s]\u001b[A\n",
            "Iteration:   4% 2/53 [00:01<00:45,  1.11it/s]\u001b[A\n",
            "Iteration:   6% 3/53 [00:02<00:44,  1.13it/s]\u001b[A\n",
            "Iteration:   8% 4/53 [00:03<00:43,  1.14it/s]\u001b[A\n",
            "Iteration:   9% 5/53 [00:04<00:42,  1.14it/s]\u001b[A\n",
            "Iteration:  11% 6/53 [00:05<00:41,  1.14it/s]\u001b[A\n",
            "Iteration:  13% 7/53 [00:06<00:40,  1.14it/s]\u001b[A\n",
            "Iteration:  15% 8/53 [00:07<00:39,  1.14it/s]\u001b[A\n",
            "Iteration:  17% 9/53 [00:07<00:38,  1.14it/s]\u001b[A\n",
            "Iteration:  19% 10/53 [00:08<00:37,  1.14it/s]\u001b[A\n",
            "Iteration:  21% 11/53 [00:09<00:36,  1.14it/s]\u001b[A\n",
            "Iteration:  23% 12/53 [00:10<00:35,  1.14it/s]\u001b[A\n",
            "Iteration:  25% 13/53 [00:11<00:35,  1.14it/s]\u001b[A\n",
            "Iteration:  26% 14/53 [00:12<00:34,  1.14it/s]\u001b[A\n",
            "Iteration:  28% 15/53 [00:13<00:33,  1.14it/s]\u001b[A\n",
            "Iteration:  30% 16/53 [00:14<00:32,  1.14it/s]\u001b[A\n",
            "Iteration:  32% 17/53 [00:14<00:31,  1.14it/s]\u001b[A\n",
            "Iteration:  34% 18/53 [00:15<00:30,  1.14it/s]\u001b[A\n",
            "Iteration:  36% 19/53 [00:16<00:29,  1.14it/s]\u001b[A\n",
            "Iteration:  38% 20/53 [00:17<00:29,  1.13it/s]\u001b[A\n",
            "Iteration:  40% 21/53 [00:18<00:28,  1.13it/s]\u001b[A\n",
            "Iteration:  42% 22/53 [00:19<00:27,  1.13it/s]\u001b[A\n",
            "Iteration:  43% 23/53 [00:20<00:26,  1.13it/s]\u001b[A\n",
            "Iteration:  45% 24/53 [00:21<00:25,  1.13it/s]\u001b[A\n",
            "Iteration:  47% 25/53 [00:22<00:24,  1.13it/s]\u001b[A\n",
            "Iteration:  49% 26/53 [00:22<00:23,  1.13it/s]\u001b[A\n",
            "Iteration:  51% 27/53 [00:23<00:23,  1.13it/s]\u001b[A\n",
            "Iteration:  53% 28/53 [00:24<00:22,  1.12it/s]\u001b[A\n",
            "Iteration:  55% 29/53 [00:25<00:21,  1.12it/s]\u001b[A\n",
            "Iteration:  57% 30/53 [00:26<00:20,  1.12it/s]\u001b[A\n",
            "Iteration:  58% 31/53 [00:27<00:19,  1.12it/s]\u001b[A\n",
            "Iteration:  60% 32/53 [00:28<00:18,  1.12it/s]\u001b[A\n",
            "Iteration:  62% 33/53 [00:29<00:17,  1.12it/s]\u001b[A\n",
            "Iteration:  64% 34/53 [00:30<00:16,  1.12it/s]\u001b[A\n",
            "Iteration:  66% 35/53 [00:30<00:16,  1.12it/s]\u001b[A\n",
            "Iteration:  68% 36/53 [00:31<00:15,  1.12it/s]\u001b[A\n",
            "Iteration:  70% 37/53 [00:32<00:14,  1.12it/s]\u001b[A\n",
            "Iteration:  72% 38/53 [00:33<00:13,  1.11it/s]\u001b[A\n",
            "Iteration:  74% 39/53 [00:34<00:12,  1.11it/s]\u001b[A\n",
            "Iteration:  75% 40/53 [00:35<00:11,  1.12it/s]\u001b[A\n",
            "Iteration:  77% 41/53 [00:36<00:10,  1.12it/s]\u001b[A\n",
            "Iteration:  79% 42/53 [00:37<00:09,  1.11it/s]\u001b[A\n",
            "Iteration:  81% 43/53 [00:38<00:08,  1.11it/s]\u001b[A\n",
            "Iteration:  83% 44/53 [00:39<00:08,  1.11it/s]\u001b[A\n",
            "Iteration:  85% 45/53 [00:39<00:07,  1.11it/s]\u001b[A\n",
            "Iteration:  87% 46/53 [00:40<00:06,  1.11it/s]\u001b[A\n",
            "Iteration:  89% 47/53 [00:41<00:05,  1.11it/s]\u001b[A\n",
            "Iteration:  91% 48/53 [00:42<00:04,  1.10it/s]\u001b[A\n",
            "Iteration:  92% 49/53 [00:43<00:03,  1.10it/s]\u001b[A\n",
            "Iteration:  94% 50/53 [00:44<00:02,  1.10it/s]\u001b[A\n",
            "Iteration:  96% 51/53 [00:45<00:01,  1.10it/s]\u001b[A\n",
            "Iteration:  98% 52/53 [00:46<00:00,  1.10it/s]\u001b[A\n",
            "Iteration: 100% 53/53 [00:47<00:00,  1.12it/s]\n",
            "Epoch:  20% 1/5 [00:47<03:09, 47.25s/it]\n",
            "Iteration:   0% 0/53 [00:00<?, ?it/s]\u001b[A\n",
            "Iteration:   2% 1/53 [00:00<00:47,  1.10it/s]\u001b[A\n",
            "Iteration:   4% 2/53 [00:01<00:46,  1.09it/s]\u001b[A\n",
            "Iteration:   6% 3/53 [00:02<00:45,  1.09it/s]\u001b[A\n",
            "Iteration:   8% 4/53 [00:03<00:44,  1.09it/s]\u001b[A\n",
            "Iteration:   9% 5/53 [00:04<00:43,  1.09it/s]\u001b[A\n",
            "Iteration:  11% 6/53 [00:05<00:43,  1.09it/s]\u001b[A\n",
            "Iteration:  13% 7/53 [00:06<00:42,  1.09it/s]\u001b[A\n",
            "Iteration:  15% 8/53 [00:07<00:41,  1.09it/s]\u001b[A\n",
            "Iteration:  17% 9/53 [00:08<00:40,  1.09it/s]\u001b[A\n",
            "Iteration:  19% 10/53 [00:09<00:39,  1.09it/s]\u001b[A\n",
            "Iteration:  21% 11/53 [00:10<00:38,  1.08it/s]\u001b[A\n",
            "Iteration:  23% 12/53 [00:11<00:37,  1.08it/s]\u001b[A\n",
            "Iteration:  25% 13/53 [00:11<00:36,  1.08it/s]\u001b[A\n",
            "Iteration:  26% 14/53 [00:12<00:36,  1.08it/s]\u001b[A\n",
            "Iteration:  28% 15/53 [00:13<00:35,  1.08it/s]\u001b[A\n",
            "Iteration:  30% 16/53 [00:14<00:34,  1.08it/s]\u001b[A\n",
            "Iteration:  32% 17/53 [00:15<00:33,  1.08it/s]\u001b[A\n",
            "Iteration:  34% 18/53 [00:16<00:32,  1.08it/s]\u001b[A\n",
            "Iteration:  36% 19/53 [00:17<00:31,  1.08it/s]\u001b[A\n",
            "Iteration:  38% 20/53 [00:18<00:30,  1.08it/s]\u001b[A\n",
            "Iteration:  40% 21/53 [00:19<00:29,  1.07it/s]\u001b[A\n",
            "Iteration:  42% 22/53 [00:20<00:28,  1.07it/s]\u001b[A\n",
            "Iteration:  43% 23/53 [00:21<00:27,  1.07it/s]\u001b[A\n",
            "Iteration:  45% 24/53 [00:22<00:27,  1.07it/s]\u001b[A\n",
            "Iteration:  47% 25/53 [00:23<00:26,  1.07it/s]\u001b[A\n",
            "Iteration:  49% 26/53 [00:24<00:25,  1.07it/s]\u001b[A\n",
            "Iteration:  51% 27/53 [00:25<00:24,  1.07it/s]\u001b[A\n",
            "Iteration:  53% 28/53 [00:25<00:23,  1.07it/s]\u001b[A\n",
            "Iteration:  55% 29/53 [00:26<00:22,  1.07it/s]\u001b[A\n",
            "Iteration:  57% 30/53 [00:27<00:21,  1.06it/s]\u001b[A\n",
            "Iteration:  58% 31/53 [00:28<00:20,  1.06it/s]\u001b[A\n",
            "Iteration:  60% 32/53 [00:29<00:19,  1.06it/s]\u001b[A\n",
            "Iteration:  62% 33/53 [00:30<00:18,  1.06it/s]\u001b[A\n",
            "Iteration:  64% 34/53 [00:31<00:18,  1.05it/s]\u001b[A\n",
            "Iteration:  66% 35/53 [00:32<00:17,  1.05it/s]\u001b[A\n",
            "Iteration:  68% 36/53 [00:33<00:16,  1.05it/s]\u001b[A\n",
            "Iteration:  70% 37/53 [00:34<00:15,  1.05it/s]\u001b[A\n",
            "Iteration:  72% 38/53 [00:35<00:14,  1.05it/s]\u001b[A\n",
            "Iteration:  74% 39/53 [00:36<00:13,  1.04it/s]\u001b[A\n",
            "Iteration:  75% 40/53 [00:37<00:12,  1.04it/s]\u001b[A\n",
            "Iteration:  77% 41/53 [00:38<00:11,  1.04it/s]\u001b[A\n",
            "Iteration:  79% 42/53 [00:39<00:10,  1.04it/s]\u001b[A\n",
            "Iteration:  81% 43/53 [00:40<00:09,  1.04it/s]\u001b[A\n",
            "Iteration:  83% 44/53 [00:41<00:08,  1.04it/s]\u001b[A\n",
            "Iteration:  85% 45/53 [00:42<00:07,  1.04it/s]\u001b[A\n",
            "Iteration:  87% 46/53 [00:43<00:06,  1.04it/s]\u001b[A\n",
            "Iteration:  89% 47/53 [00:44<00:05,  1.04it/s]\u001b[A\n",
            "Iteration:  91% 48/53 [00:45<00:04,  1.04it/s]\u001b[A\n",
            "Iteration:  92% 49/53 [00:46<00:03,  1.03it/s]\u001b[A\n",
            "Iteration:  94% 50/53 [00:47<00:02,  1.03it/s]\u001b[A\n",
            "Iteration:  96% 51/53 [00:48<00:01,  1.03it/s]\u001b[A\n",
            "Iteration:  98% 52/53 [00:48<00:00,  1.03it/s]\u001b[A\n",
            "Iteration: 100% 53/53 [00:49<00:00,  1.06it/s]\n",
            "Epoch:  40% 2/5 [01:37<02:26, 48.85s/it]\n",
            "Iteration:   0% 0/53 [00:00<?, ?it/s]\u001b[A\n",
            "Iteration:   2% 1/53 [00:00<00:50,  1.02it/s]\u001b[A\n",
            "Iteration:   4% 2/53 [00:01<00:49,  1.03it/s]\u001b[A\n",
            "Iteration:   6% 3/53 [00:02<00:48,  1.03it/s]\u001b[A\n",
            "Iteration:   8% 4/53 [00:03<00:47,  1.03it/s]\u001b[A\n",
            "Iteration:   9% 5/53 [00:04<00:46,  1.03it/s]\u001b[A\n",
            "Iteration:  11% 6/53 [00:05<00:45,  1.02it/s]\u001b[A\n",
            "Iteration:  13% 7/53 [00:06<00:44,  1.02it/s]\u001b[A\n",
            "Iteration:  15% 8/53 [00:07<00:43,  1.02it/s]\u001b[A\n",
            "Iteration:  17% 9/53 [00:08<00:42,  1.02it/s]\u001b[A\n",
            "Iteration:  19% 10/53 [00:09<00:42,  1.02it/s]\u001b[A\n",
            "Iteration:  21% 11/53 [00:10<00:41,  1.02it/s]\u001b[A\n",
            "Iteration:  23% 12/53 [00:11<00:40,  1.02it/s]\u001b[A\n",
            "Iteration:  25% 13/53 [00:12<00:39,  1.01it/s]\u001b[A\n",
            "Iteration:  26% 14/53 [00:13<00:38,  1.02it/s]\u001b[A\n",
            "Iteration:  28% 15/53 [00:14<00:37,  1.01it/s]\u001b[A\n",
            "Iteration:  30% 16/53 [00:15<00:36,  1.01it/s]\u001b[A\n",
            "Iteration:  32% 17/53 [00:16<00:35,  1.01it/s]\u001b[A\n",
            "Iteration:  34% 18/53 [00:17<00:34,  1.01it/s]\u001b[A\n",
            "Iteration:  36% 19/53 [00:18<00:33,  1.01it/s]\u001b[A\n",
            "Iteration:  38% 20/53 [00:19<00:32,  1.01it/s]\u001b[A\n",
            "Iteration:  40% 21/53 [00:20<00:31,  1.01it/s]\u001b[A\n",
            "Iteration:  42% 22/53 [00:21<00:30,  1.00it/s]\u001b[A\n",
            "Iteration:  43% 23/53 [00:22<00:29,  1.00it/s]\u001b[A\n",
            "Iteration:  45% 24/53 [00:23<00:29,  1.00s/it]\u001b[A\n",
            "Iteration:  47% 25/53 [00:24<00:28,  1.00s/it]\u001b[A\n",
            "Iteration:  49% 26/53 [00:25<00:27,  1.01s/it]\u001b[A\n",
            "Iteration:  51% 27/53 [00:26<00:26,  1.01s/it]\u001b[A\n",
            "Iteration:  53% 28/53 [00:27<00:25,  1.01s/it]\u001b[A\n",
            "Iteration:  55% 29/53 [00:28<00:24,  1.01s/it]\u001b[A\n",
            "Iteration:  57% 30/53 [00:29<00:23,  1.01s/it]\u001b[A\n",
            "Iteration:  58% 31/53 [00:30<00:22,  1.01s/it]\u001b[A\n",
            "Iteration:  60% 32/53 [00:31<00:21,  1.01s/it]\u001b[A\n",
            "Iteration:  62% 33/53 [00:32<00:20,  1.02s/it]\u001b[A\n",
            "Iteration:  64% 34/53 [00:33<00:19,  1.02s/it]\u001b[A\n",
            "Iteration:  66% 35/53 [00:34<00:18,  1.02s/it]\u001b[A\n",
            "Iteration:  68% 36/53 [00:35<00:17,  1.02s/it]\u001b[A\n",
            "Iteration:  70% 37/53 [00:36<00:16,  1.02s/it]\u001b[A\n",
            "Iteration:  72% 38/53 [00:37<00:15,  1.02s/it]\u001b[A\n",
            "Iteration:  74% 39/53 [00:38<00:14,  1.02s/it]\u001b[A\n",
            "Iteration:  75% 40/53 [00:39<00:13,  1.02s/it]\u001b[A\n",
            "Iteration:  77% 41/53 [00:40<00:12,  1.02s/it]\u001b[A\n",
            "Iteration:  79% 42/53 [00:41<00:11,  1.02s/it]\u001b[A\n",
            "Iteration:  81% 43/53 [00:43<00:10,  1.02s/it]\u001b[A\n",
            "Iteration:  83% 44/53 [00:44<00:09,  1.02s/it]\u001b[A\n",
            "Iteration:  85% 45/53 [00:45<00:08,  1.02s/it]\u001b[A\n",
            "Iteration:  87% 46/53 [00:46<00:07,  1.02s/it]\u001b[A\n",
            "Iteration:  89% 47/53 [00:47<00:06,  1.02s/it]\u001b[A\n",
            "Iteration:  91% 48/53 [00:48<00:05,  1.01s/it]\u001b[A\n",
            "Iteration:  92% 49/53 [00:49<00:04,  1.01s/it]\u001b[A\n",
            "Iteration:  94% 50/53 [00:50<00:03,  1.00s/it]\u001b[A\n",
            "Iteration:  96% 51/53 [00:51<00:02,  1.00s/it]\u001b[A\n",
            "Iteration:  98% 52/53 [00:52<00:00,  1.00it/s]\u001b[A\n",
            "Iteration: 100% 53/53 [00:53<00:00,  1.00s/it]\n",
            "Epoch:  60% 3/5 [02:30<01:41, 50.77s/it]\n",
            "Iteration:   0% 0/53 [00:00<?, ?it/s]\u001b[A\n",
            "Iteration:   2% 1/53 [00:00<00:51,  1.01it/s]\u001b[A\n",
            "Iteration:   4% 2/53 [00:01<00:50,  1.01it/s]\u001b[A\n",
            "Iteration:   6% 3/53 [00:02<00:49,  1.01it/s]\u001b[A\n",
            "Iteration:   8% 4/53 [00:03<00:48,  1.01it/s]\u001b[A\n",
            "Iteration:   9% 5/53 [00:04<00:47,  1.00it/s]\u001b[A\n",
            "Iteration:  11% 6/53 [00:05<00:46,  1.01it/s]\u001b[A\n",
            "Iteration:  13% 7/53 [00:06<00:45,  1.01it/s]\u001b[A\n",
            "Iteration:  15% 8/53 [00:07<00:44,  1.00it/s]\u001b[A\n",
            "Iteration:  17% 9/53 [00:08<00:43,  1.01it/s]\u001b[A\n",
            "Iteration:  19% 10/53 [00:09<00:42,  1.01it/s]\u001b[A\n",
            "Iteration:  21% 11/53 [00:10<00:41,  1.01it/s]\u001b[A\n",
            "Iteration:  23% 12/53 [00:11<00:40,  1.01it/s]\u001b[A\n",
            "Iteration:  25% 13/53 [00:12<00:39,  1.01it/s]\u001b[A\n",
            "Iteration:  26% 14/53 [00:13<00:38,  1.01it/s]\u001b[A\n",
            "Iteration:  28% 15/53 [00:14<00:37,  1.00it/s]\u001b[A\n",
            "Iteration:  30% 16/53 [00:15<00:36,  1.00it/s]\u001b[A\n",
            "Iteration:  32% 17/53 [00:16<00:35,  1.01it/s]\u001b[A\n",
            "Iteration:  34% 18/53 [00:17<00:34,  1.01it/s]\u001b[A\n",
            "Iteration:  36% 19/53 [00:18<00:33,  1.01it/s]\u001b[A\n",
            "Iteration:  38% 20/53 [00:19<00:32,  1.01it/s]\u001b[A\n",
            "Iteration:  40% 21/53 [00:20<00:31,  1.01it/s]\u001b[A\n",
            "Iteration:  42% 22/53 [00:21<00:30,  1.01it/s]\u001b[A\n",
            "Iteration:  43% 23/53 [00:22<00:29,  1.01it/s]\u001b[A\n",
            "Iteration:  45% 24/53 [00:23<00:28,  1.01it/s]\u001b[A\n",
            "Iteration:  47% 25/53 [00:24<00:27,  1.01it/s]\u001b[A\n",
            "Iteration:  49% 26/53 [00:25<00:26,  1.01it/s]\u001b[A\n",
            "Iteration:  51% 27/53 [00:26<00:25,  1.01it/s]\u001b[A\n",
            "Iteration:  53% 28/53 [00:27<00:24,  1.01it/s]\u001b[A\n",
            "Iteration:  55% 29/53 [00:28<00:23,  1.01it/s]\u001b[A\n",
            "Iteration:  57% 30/53 [00:29<00:22,  1.01it/s]\u001b[A\n",
            "Iteration:  58% 31/53 [00:30<00:21,  1.01it/s]\u001b[A\n",
            "Iteration:  60% 32/53 [00:31<00:20,  1.00it/s]\u001b[A\n",
            "Iteration:  62% 33/53 [00:32<00:19,  1.00it/s]\u001b[A\n",
            "Iteration:  64% 34/53 [00:33<00:18,  1.00it/s]\u001b[A\n",
            "Iteration:  66% 35/53 [00:34<00:17,  1.01it/s]\u001b[A\n",
            "Iteration:  68% 36/53 [00:35<00:16,  1.00it/s]\u001b[A\n",
            "Iteration:  70% 37/53 [00:36<00:15,  1.00it/s]\u001b[A\n",
            "Iteration:  72% 38/53 [00:37<00:14,  1.00it/s]\u001b[A\n",
            "Iteration:  74% 39/53 [00:38<00:13,  1.00it/s]\u001b[A\n",
            "Iteration:  75% 40/53 [00:39<00:12,  1.01it/s]\u001b[A\n",
            "Iteration:  77% 41/53 [00:40<00:11,  1.00it/s]\u001b[A\n",
            "Iteration:  79% 42/53 [00:41<00:10,  1.00it/s]\u001b[A\n",
            "Iteration:  81% 43/53 [00:42<00:09,  1.00it/s]\u001b[A\n",
            "Iteration:  83% 44/53 [00:43<00:08,  1.00it/s]\u001b[A\n",
            "Iteration:  85% 45/53 [00:44<00:07,  1.00it/s]\u001b[A\n",
            "Iteration:  87% 46/53 [00:45<00:06,  1.00it/s]\u001b[A\n",
            "Iteration:  89% 47/53 [00:46<00:05,  1.00it/s]\u001b[A\n",
            "Iteration:  91% 48/53 [00:47<00:04,  1.01it/s]\u001b[A\n",
            "Iteration:  92% 49/53 [00:48<00:03,  1.00it/s]\u001b[A\n",
            "Iteration:  94% 50/53 [00:49<00:02,  1.00it/s]\u001b[A\n",
            "Iteration:  96% 51/53 [00:50<00:01,  1.01it/s]\u001b[A\n",
            "Iteration:  98% 52/53 [00:51<00:00,  1.00it/s]\u001b[A\n",
            "Iteration: 100% 53/53 [00:52<00:00,  1.00it/s]\n",
            "Epoch:  80% 4/5 [03:23<00:51, 51.54s/it]\n",
            "Iteration:   0% 0/53 [00:00<?, ?it/s]\u001b[A\n",
            "Iteration:   2% 1/53 [00:00<00:51,  1.01it/s]\u001b[A\n",
            "Iteration:   4% 2/53 [00:01<00:50,  1.00it/s]\u001b[A\n",
            "Iteration:   6% 3/53 [00:02<00:49,  1.00it/s]\u001b[A\n",
            "Iteration:   8% 4/53 [00:03<00:48,  1.00it/s]\u001b[A\n",
            "Iteration:   9% 5/53 [00:04<00:47,  1.00it/s]\u001b[A\n",
            "Iteration:  11% 6/53 [00:05<00:46,  1.00it/s]\u001b[A\n",
            "Iteration:  13% 7/53 [00:06<00:45,  1.00it/s]\u001b[A\n",
            "Iteration:  15% 8/53 [00:07<00:44,  1.00it/s]\u001b[A\n",
            "Iteration:  17% 9/53 [00:08<00:43,  1.00it/s]\u001b[A\n",
            "Iteration:  19% 10/53 [00:09<00:42,  1.00it/s]\u001b[A\n",
            "Iteration:  21% 11/53 [00:10<00:41,  1.00it/s]\u001b[A\n",
            "Iteration:  23% 12/53 [00:11<00:40,  1.00it/s]\u001b[A\n",
            "Iteration:  25% 13/53 [00:12<00:39,  1.00it/s]\u001b[A\n",
            "Iteration:  26% 14/53 [00:13<00:38,  1.00it/s]\u001b[A\n",
            "Iteration:  28% 15/53 [00:14<00:37,  1.00it/s]\u001b[A\n",
            "Iteration:  30% 16/53 [00:15<00:36,  1.00it/s]\u001b[A\n",
            "Iteration:  32% 17/53 [00:16<00:35,  1.00it/s]\u001b[A\n",
            "Iteration:  34% 18/53 [00:17<00:34,  1.00it/s]\u001b[A\n",
            "Iteration:  36% 19/53 [00:18<00:33,  1.00it/s]\u001b[A\n",
            "Iteration:  38% 20/53 [00:19<00:32,  1.00it/s]\u001b[A\n",
            "Iteration:  40% 21/53 [00:20<00:31,  1.00it/s]\u001b[A\n",
            "Iteration:  42% 22/53 [00:21<00:30,  1.00it/s]\u001b[A\n",
            "Iteration:  43% 23/53 [00:22<00:29,  1.00it/s]\u001b[A\n",
            "Iteration:  45% 24/53 [00:23<00:28,  1.00it/s]\u001b[A\n",
            "Iteration:  47% 25/53 [00:24<00:28,  1.00s/it]\u001b[A\n",
            "Iteration:  49% 26/53 [00:25<00:26,  1.00it/s]\u001b[A\n",
            "Iteration:  51% 27/53 [00:26<00:25,  1.00it/s]\u001b[A\n",
            "Iteration:  53% 28/53 [00:27<00:24,  1.00it/s]\u001b[A\n",
            "Iteration:  55% 29/53 [00:28<00:23,  1.00it/s]\u001b[A\n",
            "Iteration:  57% 30/53 [00:29<00:22,  1.00it/s]\u001b[A\n",
            "Iteration:  58% 31/53 [00:30<00:21,  1.00it/s]\u001b[A\n",
            "Iteration:  60% 32/53 [00:31<00:20,  1.00it/s]\u001b[A\n",
            "Iteration:  62% 33/53 [00:32<00:19,  1.00it/s]\u001b[A\n",
            "Iteration:  64% 34/53 [00:33<00:18,  1.00it/s]\u001b[A\n",
            "Iteration:  66% 35/53 [00:34<00:17,  1.00it/s]\u001b[A\n",
            "Iteration:  68% 36/53 [00:35<00:16,  1.00it/s]\u001b[A\n",
            "Iteration:  70% 37/53 [00:36<00:15,  1.00it/s]\u001b[A\n",
            "Iteration:  72% 38/53 [00:37<00:14,  1.00it/s]\u001b[A\n",
            "Iteration:  74% 39/53 [00:38<00:13,  1.00it/s]\u001b[A\n",
            "Iteration:  75% 40/53 [00:39<00:12,  1.00it/s]\u001b[A\n",
            "Iteration:  77% 41/53 [00:40<00:11,  1.00it/s]\u001b[A\n",
            "Iteration:  79% 42/53 [00:41<00:10,  1.01it/s]\u001b[A\n",
            "Iteration:  81% 43/53 [00:42<00:09,  1.00it/s]\u001b[A\n",
            "Iteration:  83% 44/53 [00:43<00:08,  1.00it/s]\u001b[A\n",
            "Iteration:  85% 45/53 [00:44<00:07,  1.00it/s]\u001b[A\n",
            "Iteration:  87% 46/53 [00:45<00:06,  1.00it/s]\u001b[A\n",
            "Iteration:  89% 47/53 [00:46<00:05,  1.01it/s]\u001b[A\n",
            "Iteration:  91% 48/53 [00:47<00:04,  1.00it/s]\u001b[A\n",
            "Iteration:  92% 49/53 [00:48<00:03,  1.00it/s]\u001b[A\n",
            "Iteration:  94% 50/53 [00:49<00:02,  1.00it/s]\u001b[A\n",
            "Iteration:  96% 51/53 [00:50<00:01,  1.00it/s]\u001b[A\n",
            "Iteration:  98% 52/53 [00:51<00:00,  1.01it/s]\u001b[A\n",
            "Iteration: 100% 53/53 [00:52<00:00,  1.00it/s]\n",
            "Epoch: 100% 5/5 [04:15<00:00, 51.16s/it]\n"
          ]
        }
      ],
      "source": [
        "!export PYTHONPATH=${PYTHONPATH}:/ru-gpts/\n",
        "!CUDA_VISIBLE_DEVICES=0 python ru-gpts/pretrain_transformers.py \\\n",
        "    --output_dir=models/essays \\\n",
        "    --model_type=gpt2 \\\n",
        "    --model_name_or_path=sberbank-ai/rugpt3small_based_on_gpt2 \\\n",
        "    --do_train \\\n",
        "    --train_data_file=res.txt \\\n",
        "    --per_gpu_train_batch_size 1 \\\n",
        "    --gradient_accumulation_steps 1 \\\n",
        "    --num_train_epochs 5 \\\n",
        "    --block_size 2048 \\\n",
        "    --overwrite_output_dir"
      ]
    },
    {
      "cell_type": "markdown",
      "metadata": {
        "id": "QvgntLymArg3"
      },
      "source": [
        "## Evaluate model\n",
        "### Generate with generate_transformers.py script."
      ]
    },
    {
      "cell_type": "code",
      "execution_count": null,
      "metadata": {
        "colab": {
          "base_uri": "https://localhost:8080/"
        },
        "id": "qYnswPyr9CVw",
        "outputId": "85961b08-4733-44c4-a1f7-6abcb0183375"
      },
      "outputs": [
        {
          "output_type": "stream",
          "name": "stdout",
          "text": [
            "Context >>> Вкусный\n",
            "Setting `pad_token_id` to `eos_token_id`:50256 for open-end generation.\n",
            "ruGPT:\n",
            "Вкусный салат «Новогодний» с курицей и сыром Рецепт: Куриную грудку отварить до готовности, остудить.Вынуть мясо из бульона (можно использовать мясорубкой).Добавить кубиками нарезанный лук полукольцами или соломой порезанное колечко помидора без кожицы в миску выложить мелко нашинкованную зелень петрушки по вкусу посолить добавить тертый сыр натерть майонезом смешать все это со сметаной добавит еще 1 столовую ложку томатной пасты перемешать соус готов\n",
            "Салат оливье для Нового года 2016 от ТМ Красная Глинка готова! Можно подавать к праздничному столу вместе любимым соусом Айоли Сдобные булочки готовы? Подавать горячими ароматными блинчиками-сметанниками посыпав сверху кондитерской крошкой :) Желаем вам вкусного новогоднего настроения!!!\n",
            "Context >>> Traceback (most recent call last):\n",
            "  File \"ru-gpts/generate_transformers.py\", line 268, in <module>\n",
            "    main()\n",
            "  File \"ru-gpts/generate_transformers.py\", line 213, in main\n",
            "    prompt_text = args.prompt if args.prompt else input(\"Context >>> \")\n",
            "KeyboardInterrupt\n",
            "^C\n"
          ]
        }
      ],
      "source": [
        "!python ru-gpts/generate_transformers.py \\\n",
        "    --model_type=gpt2 \\\n",
        "    --model_name_or_path=models/essays \\\n",
        "    --k=5 \\\n",
        "    --p=0.95 \\\n",
        "    --length=500 \\\n",
        "    --repetition_penalty=5"
      ]
    },
    {
      "cell_type": "markdown",
      "metadata": {
        "id": "K7_jIWhVBKay"
      },
      "source": [
        "### Generate mannualy"
      ]
    },
    {
      "cell_type": "code",
      "execution_count": null,
      "metadata": {
        "id": "csHcDJXFDdaW"
      },
      "outputs": [],
      "source": [
        "import numpy as np\n",
        "import torch"
      ]
    },
    {
      "cell_type": "code",
      "execution_count": null,
      "metadata": {
        "id": "TJxPg-cJDhAB",
        "colab": {
          "base_uri": "https://localhost:8080/"
        },
        "outputId": "6d645137-0838-4420-d68d-5f5ca12ed547"
      },
      "outputs": [
        {
          "output_type": "execute_result",
          "data": {
            "text/plain": [
              "<torch._C.Generator at 0x7f688623e2d0>"
            ]
          },
          "metadata": {},
          "execution_count": 4
        }
      ],
      "source": [
        "np.random.seed(42)\n",
        "torch.manual_seed(42)"
      ]
    },
    {
      "cell_type": "code",
      "execution_count": null,
      "metadata": {
        "id": "AkUrzKsy_16F"
      },
      "outputs": [],
      "source": [
        "from transformers import GPT2LMHeadModel, GPT2Tokenizer"
      ]
    },
    {
      "cell_type": "code",
      "execution_count": null,
      "metadata": {
        "id": "x_EMbgO0BTvb"
      },
      "outputs": [],
      "source": [
        "tok = GPT2Tokenizer.from_pretrained(\"/content/drive/MyDrive/models/essays\")"
      ]
    },
    {
      "cell_type": "code",
      "execution_count": null,
      "metadata": {
        "id": "Fjy0GAuQBYpA"
      },
      "outputs": [],
      "source": [
        "model = GPT2LMHeadModel.from_pretrained(\"/content/drive/MyDrive/models/essays\")"
      ]
    },
    {
      "cell_type": "code",
      "execution_count": null,
      "metadata": {
        "id": "irh4H-HDBb6V",
        "colab": {
          "base_uri": "https://localhost:8080/"
        },
        "outputId": "d49906a8-7f94-4376-9cb0-94dd386bcf99"
      },
      "outputs": [
        {
          "output_type": "execute_result",
          "data": {
            "text/plain": [
              "GPT2LMHeadModel(\n",
              "  (transformer): GPT2Model(\n",
              "    (wte): Embedding(50257, 768)\n",
              "    (wpe): Embedding(2048, 768)\n",
              "    (drop): Dropout(p=0.1, inplace=False)\n",
              "    (h): ModuleList(\n",
              "      (0): Block(\n",
              "        (ln_1): LayerNorm((768,), eps=1e-05, elementwise_affine=True)\n",
              "        (attn): Attention(\n",
              "          (c_attn): Conv1D()\n",
              "          (c_proj): Conv1D()\n",
              "          (attn_dropout): Dropout(p=0.1, inplace=False)\n",
              "          (resid_dropout): Dropout(p=0.1, inplace=False)\n",
              "        )\n",
              "        (ln_2): LayerNorm((768,), eps=1e-05, elementwise_affine=True)\n",
              "        (mlp): MLP(\n",
              "          (c_fc): Conv1D()\n",
              "          (c_proj): Conv1D()\n",
              "          (dropout): Dropout(p=0.1, inplace=False)\n",
              "        )\n",
              "      )\n",
              "      (1): Block(\n",
              "        (ln_1): LayerNorm((768,), eps=1e-05, elementwise_affine=True)\n",
              "        (attn): Attention(\n",
              "          (c_attn): Conv1D()\n",
              "          (c_proj): Conv1D()\n",
              "          (attn_dropout): Dropout(p=0.1, inplace=False)\n",
              "          (resid_dropout): Dropout(p=0.1, inplace=False)\n",
              "        )\n",
              "        (ln_2): LayerNorm((768,), eps=1e-05, elementwise_affine=True)\n",
              "        (mlp): MLP(\n",
              "          (c_fc): Conv1D()\n",
              "          (c_proj): Conv1D()\n",
              "          (dropout): Dropout(p=0.1, inplace=False)\n",
              "        )\n",
              "      )\n",
              "      (2): Block(\n",
              "        (ln_1): LayerNorm((768,), eps=1e-05, elementwise_affine=True)\n",
              "        (attn): Attention(\n",
              "          (c_attn): Conv1D()\n",
              "          (c_proj): Conv1D()\n",
              "          (attn_dropout): Dropout(p=0.1, inplace=False)\n",
              "          (resid_dropout): Dropout(p=0.1, inplace=False)\n",
              "        )\n",
              "        (ln_2): LayerNorm((768,), eps=1e-05, elementwise_affine=True)\n",
              "        (mlp): MLP(\n",
              "          (c_fc): Conv1D()\n",
              "          (c_proj): Conv1D()\n",
              "          (dropout): Dropout(p=0.1, inplace=False)\n",
              "        )\n",
              "      )\n",
              "      (3): Block(\n",
              "        (ln_1): LayerNorm((768,), eps=1e-05, elementwise_affine=True)\n",
              "        (attn): Attention(\n",
              "          (c_attn): Conv1D()\n",
              "          (c_proj): Conv1D()\n",
              "          (attn_dropout): Dropout(p=0.1, inplace=False)\n",
              "          (resid_dropout): Dropout(p=0.1, inplace=False)\n",
              "        )\n",
              "        (ln_2): LayerNorm((768,), eps=1e-05, elementwise_affine=True)\n",
              "        (mlp): MLP(\n",
              "          (c_fc): Conv1D()\n",
              "          (c_proj): Conv1D()\n",
              "          (dropout): Dropout(p=0.1, inplace=False)\n",
              "        )\n",
              "      )\n",
              "      (4): Block(\n",
              "        (ln_1): LayerNorm((768,), eps=1e-05, elementwise_affine=True)\n",
              "        (attn): Attention(\n",
              "          (c_attn): Conv1D()\n",
              "          (c_proj): Conv1D()\n",
              "          (attn_dropout): Dropout(p=0.1, inplace=False)\n",
              "          (resid_dropout): Dropout(p=0.1, inplace=False)\n",
              "        )\n",
              "        (ln_2): LayerNorm((768,), eps=1e-05, elementwise_affine=True)\n",
              "        (mlp): MLP(\n",
              "          (c_fc): Conv1D()\n",
              "          (c_proj): Conv1D()\n",
              "          (dropout): Dropout(p=0.1, inplace=False)\n",
              "        )\n",
              "      )\n",
              "      (5): Block(\n",
              "        (ln_1): LayerNorm((768,), eps=1e-05, elementwise_affine=True)\n",
              "        (attn): Attention(\n",
              "          (c_attn): Conv1D()\n",
              "          (c_proj): Conv1D()\n",
              "          (attn_dropout): Dropout(p=0.1, inplace=False)\n",
              "          (resid_dropout): Dropout(p=0.1, inplace=False)\n",
              "        )\n",
              "        (ln_2): LayerNorm((768,), eps=1e-05, elementwise_affine=True)\n",
              "        (mlp): MLP(\n",
              "          (c_fc): Conv1D()\n",
              "          (c_proj): Conv1D()\n",
              "          (dropout): Dropout(p=0.1, inplace=False)\n",
              "        )\n",
              "      )\n",
              "      (6): Block(\n",
              "        (ln_1): LayerNorm((768,), eps=1e-05, elementwise_affine=True)\n",
              "        (attn): Attention(\n",
              "          (c_attn): Conv1D()\n",
              "          (c_proj): Conv1D()\n",
              "          (attn_dropout): Dropout(p=0.1, inplace=False)\n",
              "          (resid_dropout): Dropout(p=0.1, inplace=False)\n",
              "        )\n",
              "        (ln_2): LayerNorm((768,), eps=1e-05, elementwise_affine=True)\n",
              "        (mlp): MLP(\n",
              "          (c_fc): Conv1D()\n",
              "          (c_proj): Conv1D()\n",
              "          (dropout): Dropout(p=0.1, inplace=False)\n",
              "        )\n",
              "      )\n",
              "      (7): Block(\n",
              "        (ln_1): LayerNorm((768,), eps=1e-05, elementwise_affine=True)\n",
              "        (attn): Attention(\n",
              "          (c_attn): Conv1D()\n",
              "          (c_proj): Conv1D()\n",
              "          (attn_dropout): Dropout(p=0.1, inplace=False)\n",
              "          (resid_dropout): Dropout(p=0.1, inplace=False)\n",
              "        )\n",
              "        (ln_2): LayerNorm((768,), eps=1e-05, elementwise_affine=True)\n",
              "        (mlp): MLP(\n",
              "          (c_fc): Conv1D()\n",
              "          (c_proj): Conv1D()\n",
              "          (dropout): Dropout(p=0.1, inplace=False)\n",
              "        )\n",
              "      )\n",
              "      (8): Block(\n",
              "        (ln_1): LayerNorm((768,), eps=1e-05, elementwise_affine=True)\n",
              "        (attn): Attention(\n",
              "          (c_attn): Conv1D()\n",
              "          (c_proj): Conv1D()\n",
              "          (attn_dropout): Dropout(p=0.1, inplace=False)\n",
              "          (resid_dropout): Dropout(p=0.1, inplace=False)\n",
              "        )\n",
              "        (ln_2): LayerNorm((768,), eps=1e-05, elementwise_affine=True)\n",
              "        (mlp): MLP(\n",
              "          (c_fc): Conv1D()\n",
              "          (c_proj): Conv1D()\n",
              "          (dropout): Dropout(p=0.1, inplace=False)\n",
              "        )\n",
              "      )\n",
              "      (9): Block(\n",
              "        (ln_1): LayerNorm((768,), eps=1e-05, elementwise_affine=True)\n",
              "        (attn): Attention(\n",
              "          (c_attn): Conv1D()\n",
              "          (c_proj): Conv1D()\n",
              "          (attn_dropout): Dropout(p=0.1, inplace=False)\n",
              "          (resid_dropout): Dropout(p=0.1, inplace=False)\n",
              "        )\n",
              "        (ln_2): LayerNorm((768,), eps=1e-05, elementwise_affine=True)\n",
              "        (mlp): MLP(\n",
              "          (c_fc): Conv1D()\n",
              "          (c_proj): Conv1D()\n",
              "          (dropout): Dropout(p=0.1, inplace=False)\n",
              "        )\n",
              "      )\n",
              "      (10): Block(\n",
              "        (ln_1): LayerNorm((768,), eps=1e-05, elementwise_affine=True)\n",
              "        (attn): Attention(\n",
              "          (c_attn): Conv1D()\n",
              "          (c_proj): Conv1D()\n",
              "          (attn_dropout): Dropout(p=0.1, inplace=False)\n",
              "          (resid_dropout): Dropout(p=0.1, inplace=False)\n",
              "        )\n",
              "        (ln_2): LayerNorm((768,), eps=1e-05, elementwise_affine=True)\n",
              "        (mlp): MLP(\n",
              "          (c_fc): Conv1D()\n",
              "          (c_proj): Conv1D()\n",
              "          (dropout): Dropout(p=0.1, inplace=False)\n",
              "        )\n",
              "      )\n",
              "      (11): Block(\n",
              "        (ln_1): LayerNorm((768,), eps=1e-05, elementwise_affine=True)\n",
              "        (attn): Attention(\n",
              "          (c_attn): Conv1D()\n",
              "          (c_proj): Conv1D()\n",
              "          (attn_dropout): Dropout(p=0.1, inplace=False)\n",
              "          (resid_dropout): Dropout(p=0.1, inplace=False)\n",
              "        )\n",
              "        (ln_2): LayerNorm((768,), eps=1e-05, elementwise_affine=True)\n",
              "        (mlp): MLP(\n",
              "          (c_fc): Conv1D()\n",
              "          (c_proj): Conv1D()\n",
              "          (dropout): Dropout(p=0.1, inplace=False)\n",
              "        )\n",
              "      )\n",
              "    )\n",
              "    (ln_f): LayerNorm((768,), eps=1e-05, elementwise_affine=True)\n",
              "  )\n",
              "  (lm_head): Linear(in_features=768, out_features=50257, bias=False)\n",
              ")"
            ]
          },
          "metadata": {},
          "execution_count": 12
        }
      ],
      "source": [
        "model.cuda()"
      ]
    },
    {
      "cell_type": "code",
      "execution_count": null,
      "metadata": {
        "id": "hQY6A5q7Bd4O"
      },
      "outputs": [],
      "source": [
        "text = \"Название: \"\n",
        "inpt = tok.encode(text, return_tensors=\"pt\")"
      ]
    },
    {
      "cell_type": "code",
      "execution_count": null,
      "metadata": {
        "id": "1gfJFmeOBj_t",
        "colab": {
          "base_uri": "https://localhost:8080/"
        },
        "outputId": "0e64e4fd-f5e8-4f85-c881-d74a7a336a4c"
      },
      "outputs": [
        {
          "output_type": "stream",
          "name": "stderr",
          "text": [
            "Setting `pad_token_id` to `eos_token_id`:50256 for open-end generation.\n"
          ]
        }
      ],
      "source": [
        "out = model.generate(inpt, max_length=150, repetition_penalty=10.0, do_sample=True, top_k=2500, top_p=0.8, temperature=200.0)"
      ]
    },
    {
      "cell_type": "code",
      "execution_count": null,
      "metadata": {
        "colab": {
          "base_uri": "https://localhost:8080/",
          "height": 79
        },
        "id": "gWZ9SUCxB2Ki",
        "outputId": "b0f803ca-c766-4a36-ae0e-6e4871af3d4d"
      },
      "outputs": [
        {
          "output_type": "execute_result",
          "data": {
            "text/plain": [
              "'Название:  ПШЕНА ИЗ МАРИНОВАННОЙ СЁМГИ Рецепт Чтобы приготовить пшено из маринованной сёмги, для начала необходимо сварить 500 миллилитров мясного бульона.Завернуть 400 грамм картофеля в кастрюлю и остудить до полуготовности 10-15 минут на слабом огне без крышки.Варить еще 5 -7 секунд после закипания готового супа ТТ «Эстадия».Выложить мясо грудкой вниз во взбитые сливки (из расчета 1 чайная ложка желатина).150 граммов мёда заварите при помощи сотейника или вымесьте руками, если будете использовать пену НЗ10%, чтобы прикрыть вареную массу'"
            ],
            "application/vnd.google.colaboratory.intrinsic+json": {
              "type": "string"
            }
          },
          "metadata": {},
          "execution_count": 27
        }
      ],
      "source": [
        "tok.decode(out[0])"
      ]
    },
    {
      "cell_type": "code",
      "source": [
        "len(tok.decode(out[0]))"
      ],
      "metadata": {
        "colab": {
          "base_uri": "https://localhost:8080/"
        },
        "id": "XI9MBzOMegIu",
        "outputId": "066e8b70-b2c0-4535-91b0-014b562534e7"
      },
      "execution_count": null,
      "outputs": [
        {
          "output_type": "execute_result",
          "data": {
            "text/plain": [
              "515"
            ]
          },
          "metadata": {},
          "execution_count": 30
        }
      ]
    },
    {
      "cell_type": "code",
      "source": [
        "!python /content/ru-gpts/convert2huggingface.py \\\n",
        "  --load /path/to/save/dir/ \\\n",
        "  --model-parallel-size 1 \\\n",
        "  --num-layers 12 \\\n",
        "  --hidden-size 768 \\\n",
        "  --num-attention-heads 12 \\\n",
        "  --max-position-embeddings 2048 \\\n",
        "  --tokenizer-path sberbank-ai/rugpt3small_based_on_gpt2 \\\n",
        "  --no-load-optim \\\n",
        "  --export-huggingface /path/to/converted/checkpoint"
      ],
      "metadata": {
        "colab": {
          "base_uri": "https://localhost:8080/"
        },
        "id": "Lb-JLb8oVLql",
        "outputId": "71cf134d-ac92-4e96-aab6-2d2649c66c1d"
      },
      "execution_count": null,
      "outputs": [
        {
          "output_type": "stream",
          "name": "stdout",
          "text": [
            "Traceback (most recent call last):\n",
            "  File \"/content/ru-gpts/convert2huggingface.py\", line 20, in <module>\n",
            "    from generate_samples import setup_model, prepare_tokenizer\n",
            "  File \"/content/ru-gpts/generate_samples.py\", line 24, in <module>\n",
            "    from src import mpu\n",
            "  File \"/content/ru-gpts/src/mpu/__init__.py\", line 35, in <module>\n",
            "    from .layers import ColumnParallelLinear\n",
            "  File \"/content/ru-gpts/src/mpu/layers.py\", line 28, in <module>\n",
            "    from apex.normalization.fused_layer_norm import FusedLayerNorm as LayerNorm\n",
            "ModuleNotFoundError: No module named 'apex'\n"
          ]
        }
      ]
    }
  ],
  "metadata": {
    "accelerator": "GPU",
    "colab": {
      "provenance": []
    },
    "kernelspec": {
      "display_name": "Python 3",
      "language": "python",
      "name": "python3"
    },
    "language_info": {
      "codemirror_mode": {
        "name": "ipython",
        "version": 3
      },
      "file_extension": ".py",
      "mimetype": "text/x-python",
      "name": "python",
      "nbconvert_exporter": "python",
      "pygments_lexer": "ipython3",
      "version": "3.7.8"
    }
  },
  "nbformat": 4,
  "nbformat_minor": 0
}